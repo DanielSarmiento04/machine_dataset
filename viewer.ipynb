{
 "cells": [
  {
   "cell_type": "code",
   "execution_count": 3,
   "metadata": {},
   "outputs": [],
   "source": [
    "import cv2\n",
    "import os"
   ]
  },
  {
   "cell_type": "code",
   "execution_count": 1,
   "metadata": {},
   "outputs": [],
   "source": [
    "# Function to read YOLO-formatted label file\n",
    "def read_yolo_label(label_path):\n",
    "    with open(label_path, 'r') as file:\n",
    "        lines = file.readlines()\n",
    "    labels = []\n",
    "    for line in lines:\n",
    "        class_id, x_center, y_center, width, height = map(float, line.strip().split())\n",
    "        labels.append((int(class_id), x_center, y_center, width, height))\n",
    "    return labels\n",
    "\n",
    "# Function to convert YOLO format to OpenCV rectangle format\n",
    "def yolo_to_bbox(yolo_bbox, img_width, img_height):\n",
    "    class_id, x_center, y_center, width, height = yolo_bbox\n",
    "    x_center *= img_width\n",
    "    y_center *= img_height\n",
    "    width *= img_width\n",
    "    height *= img_height\n",
    "    x_min = int(x_center - width / 2)\n",
    "    y_min = int(y_center - height / 2)\n",
    "    x_max = int(x_center + width / 2)\n",
    "    y_max = int(y_center + height / 2)\n",
    "    return class_id, x_min, y_min, x_max, y_max\n"
   ]
  },
  {
   "cell_type": "code",
   "execution_count": 4,
   "metadata": {},
   "outputs": [
    {
     "name": "stdout",
     "output_type": "stream",
     "text": [
      "Error: Unable to open image file augmented_images/0c18c2b2-v2_pump8_aug_0.jpg\n"
     ]
    },
    {
     "name": "stderr",
     "output_type": "stream",
     "text": [
      "[ WARN:0@2.338] global loadsave.cpp:268 findDecoder imread_('augmented_images/0c18c2b2-v2_pump8_aug_0.jpg'): can't open/read file: check file path/integrity\n"
     ]
    },
    {
     "ename": "AttributeError",
     "evalue": "'NoneType' object has no attribute 'shape'",
     "output_type": "error",
     "traceback": [
      "\u001b[0;31m---------------------------------------------------------------------------\u001b[0m",
      "\u001b[0;31mAttributeError\u001b[0m                            Traceback (most recent call last)",
      "Cell \u001b[0;32mIn[4], line 11\u001b[0m\n\u001b[1;32m      8\u001b[0m     \u001b[38;5;28mprint\u001b[39m(\u001b[38;5;124mf\u001b[39m\u001b[38;5;124m\"\u001b[39m\u001b[38;5;124mError: Unable to open image file \u001b[39m\u001b[38;5;132;01m{\u001b[39;00mimage_path\u001b[38;5;132;01m}\u001b[39;00m\u001b[38;5;124m\"\u001b[39m)\n\u001b[1;32m      9\u001b[0m     exit()\n\u001b[0;32m---> 11\u001b[0m img_height, img_width \u001b[38;5;241m=\u001b[39m \u001b[43mimage\u001b[49m\u001b[38;5;241;43m.\u001b[39;49m\u001b[43mshape\u001b[49m[:\u001b[38;5;241m2\u001b[39m]\n\u001b[1;32m     13\u001b[0m \u001b[38;5;66;03m# Read labels\u001b[39;00m\n\u001b[1;32m     14\u001b[0m labels \u001b[38;5;241m=\u001b[39m read_yolo_label(label_path)\n",
      "\u001b[0;31mAttributeError\u001b[0m: 'NoneType' object has no attribute 'shape'"
     ]
    },
    {
     "ename": "",
     "evalue": "",
     "output_type": "error",
     "traceback": [
      "\u001b[1;31mThe Kernel crashed while executing code in the current cell or a previous cell. \n",
      "\u001b[1;31mPlease review the code in the cell(s) to identify a possible cause of the failure. \n",
      "\u001b[1;31mClick <a href='https://aka.ms/vscodeJupyterKernelCrash'>here</a> for more info. \n",
      "\u001b[1;31mView Jupyter <a href='command:jupyter.viewOutput'>log</a> for further details."
     ]
    }
   ],
   "source": [
    "# Paths to image and label\n",
    "image_path = 'augmented_images/0c18c2b2-v2_pump8_aug_0.jpg'\n",
    "label_path = 'augmented_labels/0c18c2b2-v2_pump8_aug_0.txt'  # Same name as image with .txt extension\n",
    "\n",
    "# Read image\n",
    "image = cv2.imread(image_path)\n",
    "if image is None:\n",
    "    print(f\"Error: Unable to open image file {image_path}\")\n",
    "    exit()\n",
    "\n",
    "img_height, img_width = image.shape[:2]\n",
    "\n",
    "# Read labels\n",
    "labels = read_yolo_label(label_path)\n",
    "\n",
    "# Define colors for different classes (adjust as needed)\n",
    "colors = [(255, 0, 0), (0, 255, 0), (0, 0, 255)]  # Add more colors if you have more classes\n",
    "\n",
    "# Draw bounding boxes on the image\n",
    "for label in labels:\n",
    "    class_id, x_min, y_min, x_max, y_max = yolo_to_bbox(label, img_width, img_height)\n",
    "    color = colors[class_id % len(colors)]\n",
    "    cv2.rectangle(image, (x_min, y_min), (x_max, y_max), color, 2)\n",
    "    cv2.putText(image, f'Class {class_id}', (x_min, y_min - 10), cv2.FONT_HERSHEY_SIMPLEX, 0.5, color, 2)\n",
    "\n",
    "# Display the image with bounding boxes\n",
    "cv2.imshow('Labeled Image', image)\n",
    "cv2.waitKey(0)\n",
    "cv2.destroyAllWindows()"
   ]
  }
 ],
 "metadata": {
  "kernelspec": {
   "display_name": "dataset",
   "language": "python",
   "name": "python3"
  },
  "language_info": {
   "codemirror_mode": {
    "name": "ipython",
    "version": 3
   },
   "file_extension": ".py",
   "mimetype": "text/x-python",
   "name": "python",
   "nbconvert_exporter": "python",
   "pygments_lexer": "ipython3",
   "version": "3.13.1"
  }
 },
 "nbformat": 4,
 "nbformat_minor": 2
}
