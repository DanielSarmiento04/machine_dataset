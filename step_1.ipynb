{
 "cells": [
  {
   "cell_type": "code",
   "execution_count": 40,
   "metadata": {},
   "outputs": [],
   "source": [
    "from pycocotools.coco import COCO\n",
    "import cv2\n",
    "import os\n",
    "import matplotlib.pyplot as plt\n",
    "from matplotlib.patches import Rectangle\n",
    "import json\n",
    "from pprint import pprint\n",
    "import shutil"
   ]
  },
  {
   "cell_type": "code",
   "execution_count": 38,
   "metadata": {},
   "outputs": [
    {
     "name": "stdout",
     "output_type": "stream",
     "text": [
      "loading annotations into memory...\n",
      "Done (t=4.31s)\n",
      "creating index...\n",
      "index created!\n"
     ]
    }
   ],
   "source": [
    "# Paths to COCO data\n",
    "image_path = \"/Users/danielsarmiento/Downloads/train2017/\"\n",
    "annotation_file = \"/Users/danielsarmiento/Downloads/annotations/instances_train2017.json\"\n",
    "\n",
    "# Load COCO annotations\n",
    "coco = COCO(annotation_file)"
   ]
  },
  {
   "cell_type": "code",
   "execution_count": 41,
   "metadata": {},
   "outputs": [],
   "source": [
    "output_images = \"./images/\"\n",
    "output_labels = \"./labels/\"\n",
    "classes_file = \"classes.txt\"\n",
    "\n",
    "# Limits\n",
    "MAX_IMAGES_NO_LABEL = 40_000\n",
    "MAX_IMAGES_PERSON = 10_000\n",
    "MAX_IMAGES_REST_OF_CATEGORIES = 40_000\n",
    "\n",
    "# Create directories\n",
    "os.makedirs(output_images, exist_ok=True)\n",
    "os.makedirs(output_labels, exist_ok=True)"
   ]
  },
  {
   "cell_type": "code",
   "execution_count": 42,
   "metadata": {},
   "outputs": [
    {
     "name": "stdout",
     "output_type": "stream",
     "text": [
      "(\"Categories 80: ['person', 'bicycle', 'car', 'motorcycle', 'airplane', 'bus', \"\n",
      " \"'train', 'truck', 'boat', 'traffic light', 'fire hydrant', 'stop sign', \"\n",
      " \"'parking meter', 'bench', 'bird', 'cat', 'dog', 'horse', 'sheep', 'cow', \"\n",
      " \"'elephant', 'bear', 'zebra', 'giraffe', 'backpack', 'umbrella', 'handbag', \"\n",
      " \"'tie', 'suitcase', 'frisbee', 'skis', 'snowboard', 'sports ball', 'kite', \"\n",
      " \"'baseball bat', 'baseball glove', 'skateboard', 'surfboard', 'tennis \"\n",
      " \"racket', 'bottle', 'wine glass', 'cup', 'fork', 'knife', 'spoon', 'bowl', \"\n",
      " \"'banana', 'apple', 'sandwich', 'orange', 'broccoli', 'carrot', 'hot dog', \"\n",
      " \"'pizza', 'donut', 'cake', 'chair', 'couch', 'potted plant', 'bed', 'dining \"\n",
      " \"table', 'toilet', 'tv', 'laptop', 'mouse', 'remote', 'keyboard', 'cell \"\n",
      " \"phone', 'microwave', 'oven', 'toaster', 'sink', 'refrigerator', 'book', \"\n",
      " \"'clock', 'vase', 'scissors', 'teddy bear', 'hair drier', 'toothbrush']\")\n",
      "'Total images: 118287'\n",
      "(\"Image Info {'license': 3, 'file_name': '000000391895.jpg', 'coco_url': \"\n",
      " \"'http://images.cocodataset.org/train2017/000000391895.jpg', 'height': 360, \"\n",
      " \"'width': 640, 'date_captured': '2013-11-14 11:18:45', 'flickr_url': \"\n",
      " \"'http://farm9.staticflickr.com/8186/8119368305_4e622c8349_z.jpg', 'id': \"\n",
      " '391895}')\n"
     ]
    }
   ],
   "source": [
    "# Get all categories\n",
    "categories = coco.loadCats(coco.getCatIds())\n",
    "category_names = [cat['name'] for cat in categories]\n",
    "pprint(f\"Categories {len(category_names)}: {category_names}\")\n",
    "\n",
    "# Get image IDs and load an image\n",
    "image_ids = coco.getImgIds()\n",
    "pprint(f\"Total images: {len(image_ids)}\")\n",
    "\n",
    "# Load a specific image\n",
    "image_info = coco.loadImgs(image_ids[0])[0]\n",
    "pprint(f\"Image Info {image_info}\")"
   ]
  },
  {
   "cell_type": "code",
   "execution_count": 44,
   "metadata": {},
   "outputs": [
    {
     "name": "stdout",
     "output_type": "stream",
     "text": [
      "Classes saved to classes.txt\n",
      "Processing complete.\n",
      "Images with no labels: 1021\n",
      "Images with person: 10000\n",
      "Images with other categories: 40000\n"
     ]
    }
   ],
   "source": [
    "# Load categories and save to `classes.txt`\n",
    "categories = coco.loadCats(coco.getCatIds())\n",
    "category_names = [cat['name'] for cat in categories]\n",
    "category_name_to_id = {cat['name']: cat['id'] for cat in categories}\n",
    "category_id_to_index = {cat['id']: idx for idx, cat in enumerate(categories)}\n",
    "\n",
    "with open(classes_file, \"w\") as f:\n",
    "    f.writelines(f\"{name}\\n\" for name in category_names)\n",
    "\n",
    "print(f\"Classes saved to {classes_file}\")\n",
    "\n",
    "# Counters for image categories\n",
    "no_label_count = 0\n",
    "person_count = 0\n",
    "rest_count = 0\n",
    "\n",
    "# Process images\n",
    "image_ids = coco.getImgIds()\n",
    "for image_id in image_ids:\n",
    "    image_info = coco.loadImgs(image_id)[0]\n",
    "    img_annotations = coco.loadAnns(coco.getAnnIds(imgIds=image_id))\n",
    "\n",
    "    # Classify images based on annotations\n",
    "    if not img_annotations:\n",
    "        if no_label_count >= MAX_IMAGES_NO_LABEL:\n",
    "            continue\n",
    "        no_label_count += 1\n",
    "    else:\n",
    "        contains_person = any(ann['category_id'] == category_name_to_id[\"person\"] for ann in img_annotations)\n",
    "        if contains_person:\n",
    "            if person_count >= MAX_IMAGES_PERSON:\n",
    "                continue\n",
    "            person_count += 1\n",
    "        else:\n",
    "            if rest_count >= MAX_IMAGES_REST_OF_CATEGORIES:\n",
    "                continue\n",
    "            rest_count += 1\n",
    "\n",
    "    # Move image to output_images\n",
    "    src_image_path = os.path.join(image_path, image_info['file_name'])\n",
    "    dst_image_path = os.path.join(output_images, image_info['file_name'])\n",
    "    shutil.copy(src_image_path, dst_image_path)\n",
    "\n",
    "    # Create YOLO-format labels\n",
    "    label_file_path = os.path.join(output_labels, f\"{os.path.splitext(image_info['file_name'])[0]}.txt\")\n",
    "    with open(label_file_path, \"w\") as label_file:\n",
    "        for ann in img_annotations:\n",
    "            category_index = category_id_to_index[ann['category_id']]\n",
    "            bbox = ann['bbox']  # [x_min, y_min, width, height]\n",
    "            \n",
    "            # Convert to YOLO format\n",
    "            x_center = bbox[0] + bbox[2] / 2\n",
    "            y_center = bbox[1] + bbox[3] / 2\n",
    "            width = bbox[2]\n",
    "            height = bbox[3]\n",
    "\n",
    "            # Normalize coordinates\n",
    "            x_center /= image_info['width']\n",
    "            y_center /= image_info['height']\n",
    "            width /= image_info['width']\n",
    "            height /= image_info['height']\n",
    "\n",
    "            # Write YOLO format: <class_id> <x_center> <y_center> <width> <height>\n",
    "            label_file.write(f\"{category_index} {x_center:.6f} {y_center:.6f} {width:.6f} {height:.6f}\\n\")\n",
    "\n",
    "print(\"Processing complete.\")\n",
    "print(f\"Images with no labels: {no_label_count}\")\n",
    "print(f\"Images with person: {person_count}\")\n",
    "print(f\"Images with other categories: {rest_count}\")"
   ]
  },
  {
   "cell_type": "code",
   "execution_count": null,
   "metadata": {},
   "outputs": [],
   "source": []
  }
 ],
 "metadata": {
  "kernelspec": {
   "display_name": "dataset",
   "language": "python",
   "name": "python3"
  },
  "language_info": {
   "codemirror_mode": {
    "name": "ipython",
    "version": 3
   },
   "file_extension": ".py",
   "mimetype": "text/x-python",
   "name": "python",
   "nbconvert_exporter": "python",
   "pygments_lexer": "ipython3",
   "version": "3.13.1"
  }
 },
 "nbformat": 4,
 "nbformat_minor": 2
}
