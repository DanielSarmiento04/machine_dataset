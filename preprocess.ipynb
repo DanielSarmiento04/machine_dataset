{
 "cells": [
  {
   "cell_type": "code",
   "execution_count": 5,
   "metadata": {},
   "outputs": [],
   "source": [
    "import os\n",
    "import shutil\n",
    "import random\n",
    "from tqdm import tqdm"
   ]
  },
  {
   "cell_type": "code",
   "execution_count": 10,
   "metadata": {},
   "outputs": [],
   "source": [
    "# Define split ratios\n",
    "train_ratio = 0.7\n",
    "val_ratio = 0.15\n",
    "test_ratio = 0.15"
   ]
  },
  {
   "cell_type": "code",
   "execution_count": 8,
   "metadata": {},
   "outputs": [],
   "source": [
    "# Set random seed for reproducibility\n",
    "random.seed(42)"
   ]
  },
  {
   "cell_type": "code",
   "execution_count": 9,
   "metadata": {},
   "outputs": [],
   "source": [
    "\n",
    "# Define paths\n",
    "input_images_dir = './images/'\n",
    "input_labels_dir = './labels/'\n",
    "output_base_dir = './split_dataset/'\n",
    "train_images_dir = os.path.join(output_base_dir, 'train', 'images')\n",
    "train_labels_dir = os.path.join(output_base_dir, 'train', 'labels')\n",
    "val_images_dir = os.path.join(output_base_dir, 'val', 'images')\n",
    "val_labels_dir = os.path.join(output_base_dir, 'val', 'labels')\n",
    "test_images_dir = os.path.join(output_base_dir, 'test', 'images')\n",
    "test_labels_dir = os.path.join(output_base_dir, 'test', 'labels')\n",
    "\n",
    "# Create output directories\n",
    "os.makedirs(train_images_dir, exist_ok=True)\n",
    "os.makedirs(train_labels_dir, exist_ok=True)\n",
    "os.makedirs(val_images_dir, exist_ok=True)\n",
    "os.makedirs(val_labels_dir, exist_ok=True)\n",
    "os.makedirs(test_images_dir, exist_ok=True)\n",
    "os.makedirs(test_labels_dir, exist_ok=True)\n"
   ]
  },
  {
   "cell_type": "code",
   "execution_count": 11,
   "metadata": {},
   "outputs": [],
   "source": [
    "# Get list of all images\n",
    "image_files = [f for f in os.listdir(input_images_dir) if f.endswith(('.jpg', '.jpeg', '.png'))]\n",
    "\n",
    "# Shuffle the dataset\n",
    "random.shuffle(image_files)\n",
    "\n",
    "# Calculate split indices\n",
    "total_images = len(image_files)\n",
    "train_end = int(train_ratio * total_images)\n",
    "val_end = train_end + int(val_ratio * total_images)\n",
    "\n",
    "# Split the dataset\n",
    "train_files = image_files[:train_end]\n",
    "val_files = image_files[train_end:val_end]\n",
    "test_files = image_files[val_end:]"
   ]
  },
  {
   "cell_type": "code",
   "execution_count": 12,
   "metadata": {},
   "outputs": [],
   "source": [
    "\n",
    "# Get list of all images\n",
    "image_files = [f for f in os.listdir(input_images_dir) if f.endswith(('.jpg', '.jpeg', '.png'))]\n",
    "\n",
    "# Shuffle the dataset\n",
    "random.shuffle(image_files)\n",
    "\n",
    "# Calculate split indices\n",
    "total_images = len(image_files)\n",
    "train_end = int(train_ratio * total_images)\n",
    "val_end = train_end + int(val_ratio * total_images)\n",
    "\n",
    "# Split the dataset\n",
    "train_files = image_files[:train_end]\n",
    "val_files = image_files[train_end:val_end]\n",
    "test_files = image_files[val_end:]"
   ]
  },
  {
   "cell_type": "code",
   "execution_count": 13,
   "metadata": {},
   "outputs": [
    {
     "name": "stderr",
     "output_type": "stream",
     "text": [
      "Copying to ./split_dataset/train/images: 100%|██████████| 36470/36470 [00:29<00:00, 1228.92it/s]\n",
      "Copying to ./split_dataset/val/images: 100%|██████████| 7815/7815 [00:06<00:00, 1123.69it/s]\n",
      "Copying to ./split_dataset/test/images: 100%|██████████| 7816/7816 [00:07<00:00, 1035.65it/s]"
     ]
    },
    {
     "name": "stdout",
     "output_type": "stream",
     "text": [
      "Dataset split completed.\n"
     ]
    },
    {
     "name": "stderr",
     "output_type": "stream",
     "text": [
      "\n"
     ]
    }
   ],
   "source": [
    "\n",
    "def copy_files(file_list, source_image_dir, source_label_dir, dest_image_dir, dest_label_dir):\n",
    "    for file_name in tqdm(file_list, desc=f'Copying to {dest_image_dir}'):\n",
    "        # Copy image file\n",
    "        src_image_path = os.path.join(source_image_dir, file_name)\n",
    "        dst_image_path = os.path.join(dest_image_dir, file_name)\n",
    "        shutil.copy2(src_image_path, dst_image_path)\n",
    "\n",
    "        # Copy corresponding label file\n",
    "        label_name = os.path.splitext(file_name)[0] + '.txt'\n",
    "        src_label_path = os.path.join(source_label_dir, label_name)\n",
    "        if os.path.exists(src_label_path):\n",
    "            dst_label_path = os.path.join(dest_label_dir, label_name)\n",
    "            shutil.copy2(src_label_path, dst_label_path)\n",
    "        else:\n",
    "            print(f\"Warning: Label file {label_name} not found for image {file_name}.\")\n",
    "\n",
    "# Copy files to respective directories\n",
    "copy_files(train_files, input_images_dir, input_labels_dir, train_images_dir, train_labels_dir)\n",
    "copy_files(val_files, input_images_dir, input_labels_dir, val_images_dir, val_labels_dir)\n",
    "copy_files(test_files, input_images_dir, input_labels_dir, test_images_dir, test_labels_dir)\n",
    "\n",
    "print(\"Dataset split completed.\")"
   ]
  }
 ],
 "metadata": {
  "kernelspec": {
   "display_name": "dataset",
   "language": "python",
   "name": "python3"
  },
  "language_info": {
   "codemirror_mode": {
    "name": "ipython",
    "version": 3
   },
   "file_extension": ".py",
   "mimetype": "text/x-python",
   "name": "python",
   "nbconvert_exporter": "python",
   "pygments_lexer": "ipython3",
   "version": "3.13.1"
  }
 },
 "nbformat": 4,
 "nbformat_minor": 2
}
