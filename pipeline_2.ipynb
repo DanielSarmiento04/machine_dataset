{
 "cells": [
  {
   "cell_type": "code",
   "execution_count": 85,
   "metadata": {},
   "outputs": [],
   "source": [
    "import os\n",
    "import cv2\n",
    "import albumentations as A\n",
    "import numpy as np\n",
    "from tqdm import tqdm"
   ]
  },
  {
   "cell_type": "code",
   "execution_count": 66,
   "metadata": {},
   "outputs": [],
   "source": [
    "with open('./classes.txt') as f:\n",
    "    classes = f.read().splitlines()\n",
    "\n",
    "# classes"
   ]
  },
  {
   "cell_type": "code",
   "execution_count": 67,
   "metadata": {},
   "outputs": [],
   "source": [
    "pump_labels = os.listdir(\"pump/labels copy\")\n",
    "pump_images = os.listdir(\"pump/images copy\")\n",
    "\n",
    "\n",
    "# sort the labels and images\n",
    "pump_labels.sort()\n",
    "pump_images.sort()"
   ]
  },
  {
   "cell_type": "code",
   "execution_count": 68,
   "metadata": {},
   "outputs": [],
   "source": [
    "# Function to read YOLO-formatted label file\n",
    "def read_yolo_label(label_path):\n",
    "    with open(label_path, 'r') as file:\n",
    "        lines = file.readlines()\n",
    "    bboxes = []\n",
    "    class_labels = []\n",
    "    for line in lines:\n",
    "        class_id, x_center, y_center, width, height = map(float, line.strip().split())\n",
    "        bboxes.append([x_center, y_center, width, height])\n",
    "        class_labels.append(int(class_id))\n",
    "    return bboxes, class_labels\n",
    "\n",
    "# Function to save YOLO-formatted label file\n",
    "def save_yolo_label(label_path, bboxes, class_labels):\n",
    "    with open(label_path, 'w') as file:\n",
    "        for bbox, class_id in zip(bboxes, class_labels):\n",
    "            x_center, y_center, width, height = bbox\n",
    "            file.write(f\"{int(class_id)} {x_center:.6f} {y_center:.6f} {width:.6f} {height:.6f}\\n\")\n"
   ]
  },
  {
   "cell_type": "code",
   "execution_count": 88,
   "metadata": {},
   "outputs": [],
   "source": [
    "# Paths\n",
    "input_images_dir = './pump/images copy/'\n",
    "input_labels_dir = './pump/labels copy/'\n",
    "output_images_dir = './augmented_images/'\n",
    "output_labels_dir = './augmented_labels/'\n",
    "\n",
    "# Ensure output directories exist\n",
    "os.makedirs(output_images_dir, exist_ok=True)\n",
    "os.makedirs(output_labels_dir, exist_ok=True)"
   ]
  },
  {
   "cell_type": "code",
   "execution_count": 89,
   "metadata": {},
   "outputs": [],
   "source": [
    "# Define the augmentation pipeline\n",
    "transform = A.Compose(\n",
    "    [\n",
    "        # A.RandomCrop(width=256, height=256),\n",
    "        A.HorizontalFlip(p=0.5),\n",
    "        A.RandomBrightnessContrast(p=0.6),\n",
    "        A.BBoxSafeRandomCrop(erosion_rate=0.0, p=0.6),\n",
    "        # A.Morphological(),\n",
    "        # A.PixelDropout(p=0.1),\n",
    "        # A.RGBShift(p=0.1),\n",
    "        A.VerticalFlip(p=0.5),\n",
    "        A.Transpose(p=0.6),\n",
    "        A.OpticalDistortion(p=0.6),\n",
    "        A.FrequencyMasking(p=0.6),\n",
    "        A.GaussNoise(p=0.6),\n",
    "        # A.GridDistortion(p=0.6),\n",
    "        # A.RandomGridShuffle(p=0.6),\n",
    "    ],\n",
    "    bbox_params=A.BboxParams(format='yolo', label_fields=['class_labels'])\n",
    ")\n"
   ]
  },
  {
   "cell_type": "code",
   "execution_count": 91,
   "metadata": {},
   "outputs": [
    {
     "name": "stderr",
     "output_type": "stream",
     "text": [
      "100%|██████████| 64/64 [00:19<00:00,  3.26it/s]"
     ]
    },
    {
     "name": "stdout",
     "output_type": "stream",
     "text": [
      "Dataset augmentation completed.\n"
     ]
    },
    {
     "name": "stderr",
     "output_type": "stream",
     "text": [
      "\n"
     ]
    }
   ],
   "source": [
    "\n",
    "# Process each image and its corresponding label\n",
    "for image_name in tqdm(os.listdir(input_images_dir)):\n",
    "    if image_name.endswith(('.jpg', '.png', '.jpeg')):\n",
    "        image_path = os.path.join(input_images_dir, image_name)\n",
    "        label_path = os.path.join(input_labels_dir, os.path.splitext(image_name)[0] + '.txt')\n",
    "\n",
    "        # Read image\n",
    "        image = cv2.imread(image_path)\n",
    "        if image is None:\n",
    "            print(f\"Error: Unable to open image file {image_path}\")\n",
    "            continue\n",
    "        image = cv2.cvtColor(image, cv2.COLOR_BGR2RGB)\n",
    "        height, width, _ = image.shape\n",
    "\n",
    "        # Read labels\n",
    "        if not os.path.exists(label_path):\n",
    "            print(f\"Warning: Label file {label_path} does not exist.\")\n",
    "            continue\n",
    "        bboxes, class_labels = read_yolo_label(label_path)\n",
    "        \n",
    "        # Apply augmentations 5 times\n",
    "        for i in range(20):\n",
    "            transformed = transform(image=image, bboxes=bboxes, class_labels=class_labels)\n",
    "            transformed_image = transformed['image']\n",
    "            transformed_bboxes = transformed['bboxes']\n",
    "            transformed_class_labels = transformed['class_labels']\n",
    "\n",
    "            # Generate new file names\n",
    "            base_name = os.path.splitext(image_name)[0]\n",
    "            new_image_name = f\"{base_name}_aug_{i}.jpg\"\n",
    "            new_label_name = f\"{base_name}_aug_{i}.txt\"\n",
    "\n",
    "            # Save augmented image\n",
    "            transformed_image_bgr = cv2.cvtColor(transformed_image, cv2.COLOR_RGB2BGR)\n",
    "            cv2.imwrite(os.path.join(output_images_dir, new_image_name), transformed_image_bgr)\n",
    "\n",
    "            # Save augmented label\n",
    "            save_yolo_label(os.path.join(output_labels_dir, new_label_name), transformed_bboxes, transformed_class_labels)\n",
    "\n",
    "print(\"Dataset augmentation completed.\")\n",
    "\n"
   ]
  },
  {
   "cell_type": "code",
   "execution_count": 92,
   "metadata": {},
   "outputs": [],
   "source": [
    "# Move all from ./augmented_images to ./images\n",
    "\n",
    "# Paths\n",
    "output_images_dir = './images/'\n",
    "output_labels_dir = './labels/'\n",
    "\n",
    "input_images_dir = './augmented_images/'\n",
    "input_labels_dir = './augmented_labels/'\n",
    "\n"
   ]
  },
  {
   "cell_type": "code",
   "execution_count": 93,
   "metadata": {},
   "outputs": [],
   "source": [
    "input_images = os.listdir(input_images_dir)\n",
    "input_labels = os.listdir(input_labels_dir)\n",
    "\n",
    "# sort the labels and images\n",
    "input_images.sort()\n",
    "input_labels.sort()\n",
    "\n",
    "for i in range(len(input_images)):\n",
    "    os.rename(input_images_dir + input_images[i], output_images_dir + input_images[i])\n",
    "    os.rename(input_labels_dir + input_labels[i], output_labels_dir + input_labels[i])\n"
   ]
  }
 ],
 "metadata": {
  "kernelspec": {
   "display_name": "dataset",
   "language": "python",
   "name": "python3"
  },
  "language_info": {
   "codemirror_mode": {
    "name": "ipython",
    "version": 3
   },
   "file_extension": ".py",
   "mimetype": "text/x-python",
   "name": "python",
   "nbconvert_exporter": "python",
   "pygments_lexer": "ipython3",
   "version": "3.13.1"
  }
 },
 "nbformat": 4,
 "nbformat_minor": 2
}
