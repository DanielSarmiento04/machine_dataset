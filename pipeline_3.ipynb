{
 "cells": [
  {
   "cell_type": "code",
   "execution_count": 10,
   "metadata": {},
   "outputs": [],
   "source": [
    "from ultralytics import (\n",
    "    YOLO,\n",
    "    YOLOWorld\n",
    "\n",
    ")\n",
    "import os"
   ]
  },
  {
   "cell_type": "code",
   "execution_count": 2,
   "metadata": {},
   "outputs": [],
   "source": [
    "model = YOLOWorld(\n",
    "    model = \"yolov8s-worldv2.pt\"\n",
    ")"
   ]
  },
  {
   "cell_type": "code",
   "execution_count": 3,
   "metadata": {},
   "outputs": [],
   "source": [
    "classes = [\"pump\", \"motor\"]\n",
    "model.set_classes(classes)"
   ]
  },
  {
   "cell_type": "code",
   "execution_count": 4,
   "metadata": {},
   "outputs": [
    {
     "name": "stdout",
     "output_type": "stream",
     "text": [
      "\n",
      "image 1/50 /Users/danielsarmiento/Desktop/uni/tesis/dataset/pump/17914547-A1E9-4820-B077-06FDA1279DDD_1_105_c.jpeg: 640x480 (no detections), 213.9ms\n",
      "image 2/50 /Users/danielsarmiento/Desktop/uni/tesis/dataset/pump/28E1762B-952F-47CE-A711-0BE57D3D78E6_1_105_c.jpeg: 640x480 (no detections), 135.6ms\n",
      "image 3/50 /Users/danielsarmiento/Desktop/uni/tesis/dataset/pump/86000276-70E8-4CB4-9F78-046338B966C0_1_105_c.jpeg: 640x384 (no detections), 88.6ms\n",
      "image 4/50 /Users/danielsarmiento/Desktop/uni/tesis/dataset/pump/889869A5-CFF3-4F6B-B41D-EA175C400C36_1_105_c.jpeg: 640x480 (no detections), 93.2ms\n",
      "image 5/50 /Users/danielsarmiento/Desktop/uni/tesis/dataset/pump/C271EE8F-A6E6-4F2C-A895-FE0328C6393C_1_105_c.jpeg: 640x480 (no detections), 94.3ms\n",
      "image 6/50 /Users/danielsarmiento/Desktop/uni/tesis/dataset/pump/C5791C75-37C7-4925-B26B-7704326517F5_1_105_c.jpeg: 640x480 (no detections), 91.7ms\n",
      "image 7/50 /Users/danielsarmiento/Desktop/uni/tesis/dataset/pump/D1E46993-D652-45AA-BED3-7DC4594146BD_1_105_c.jpeg: 640x384 (no detections), 81.8ms\n",
      "image 8/50 /Users/danielsarmiento/Desktop/uni/tesis/dataset/pump/DALL·E 2025-01-08 22.11.38 - A detailed image of a black centrifugal pump similar to CM 15-2, featuring a sturdy motor housing, flange connections, and a compact design. The pump .webp: 640x640 (no detections), 129.6ms\n",
      "image 9/50 /Users/danielsarmiento/Desktop/uni/tesis/dataset/pump/DALL·E 2025-01-08 22.16.55 - A detailed image of a black centrifugal pump similar to CM 15-2, featuring a sturdy motor housing, flange connections, and a compact design. The pump .webp: 640x640 (no detections), 123.1ms\n",
      "image 10/50 /Users/danielsarmiento/Desktop/uni/tesis/dataset/pump/DALL·E 2025-01-08 22.17.44 - A realistic image of a black centrifugal pump similar to CM 15-2, placed in an industrial setting with natural surroundings. The pump is mounted on a .webp: 640x640 (no detections), 118.6ms\n",
      "image 11/50 /Users/danielsarmiento/Desktop/uni/tesis/dataset/pump/DALL·E 2025-01-08 22.19.11 - A detailed image of a black and silver centrifugal pump similar to the CM 15-2 model, featuring a compact and industrial design. The pump has a stream.webp: 640x640 (no detections), 141.6ms\n",
      "image 12/50 /Users/danielsarmiento/Desktop/uni/tesis/dataset/pump/DALL·E 2025-01-08 22.33.02 - A realistic image of a black and silver centrifugal pump similar to the CM 15-2 model, set in an industrial workshop environment. The pump is mounted .webp: 640x640 (no detections), 111.7ms\n",
      "image 13/50 /Users/danielsarmiento/Desktop/uni/tesis/dataset/pump/DALL·E 2025-01-08 22.35.51 - A realistic image of a black industrial centrifugal pump similar to CM 15-2, mounted on a concrete platform, connected to blue and orange pipes with b.webp: 640x640 (no detections), 116.5ms\n",
      "image 14/50 /Users/danielsarmiento/Desktop/uni/tesis/dataset/pump/DALL·E 2025-01-08 22.36.14 - A realistic industrial setup showing a black centrifugal pump similar to CM 15-2, installed on a concrete platform. The pump is connected to blue and .webp: 640x640 (no detections), 109.0ms\n",
      "image 15/50 /Users/danielsarmiento/Desktop/uni/tesis/dataset/pump/DEA18F8B-6E4E-43F2-A9B1-922DDBE8EF47_1_105_c.jpeg: 640x480 (no detections), 79.7ms\n",
      "image 16/50 /Users/danielsarmiento/Desktop/uni/tesis/dataset/pump/F4EC4208-B841-4E49-9F61-518A4067444A_1_105_c.jpeg: 640x384 (no detections), 75.7ms\n",
      "image 17/50 /Users/danielsarmiento/Desktop/uni/tesis/dataset/pump/Gemini_Generated_Image_9eaipk9eaipk9eai.jpg: 640x640 (no detections), 116.0ms\n",
      "image 18/50 /Users/danielsarmiento/Desktop/uni/tesis/dataset/pump/Gemini_Generated_Image_j5df1nj5df1nj5df.jpg: 640x640 (no detections), 108.5ms\n",
      "image 19/50 /Users/danielsarmiento/Desktop/uni/tesis/dataset/pump/Gemini_Generated_Image_mdtyywmdtyywmdty.jpg: 640x640 (no detections), 105.1ms\n",
      "image 20/50 /Users/danielsarmiento/Desktop/uni/tesis/dataset/pump/Gemini_Generated_Image_t5l12yt5l12yt5l1.jpg: 640x640 (no detections), 111.8ms\n",
      "image 21/50 /Users/danielsarmiento/Desktop/uni/tesis/dataset/pump/Gemini_Generated_Image_vc6s8kvc6s8kvc6s.jpg: 640x640 (no detections), 105.5ms\n",
      "image 22/50 /Users/danielsarmiento/Desktop/uni/tesis/dataset/pump/images.jpeg: 640x576 (no detections), 91.8ms\n",
      "image 23/50 /Users/danielsarmiento/Desktop/uni/tesis/dataset/pump/output_00001_.png: 640x640 (no detections), 101.0ms\n",
      "image 24/50 /Users/danielsarmiento/Desktop/uni/tesis/dataset/pump/output_00002_.png: 640x640 (no detections), 106.1ms\n",
      "image 25/50 /Users/danielsarmiento/Desktop/uni/tesis/dataset/pump/pump 96.jpeg: 640x640 (no detections), 108.2ms\n",
      "image 26/50 /Users/danielsarmiento/Desktop/uni/tesis/dataset/pump/pump14.jpeg: 640x640 (no detections), 108.9ms\n",
      "image 27/50 /Users/danielsarmiento/Desktop/uni/tesis/dataset/pump/pump17.jpeg: 480x640 (no detections), 76.6ms\n",
      "image 28/50 /Users/danielsarmiento/Desktop/uni/tesis/dataset/pump/pump17.webp: 640x640 (no detections), 105.2ms\n",
      "image 29/50 /Users/danielsarmiento/Desktop/uni/tesis/dataset/pump/pump18.jpeg: 640x640 (no detections), 100.4ms\n",
      "image 30/50 /Users/danielsarmiento/Desktop/uni/tesis/dataset/pump/pump30.jpeg: 640x640 (no detections), 105.1ms\n",
      "image 31/50 /Users/danielsarmiento/Desktop/uni/tesis/dataset/pump/pump35.webp: 576x640 (no detections), 90.0ms\n",
      "image 32/50 /Users/danielsarmiento/Desktop/uni/tesis/dataset/pump/pump40.webp: 576x640 (no detections), 88.2ms\n",
      "image 33/50 /Users/danielsarmiento/Desktop/uni/tesis/dataset/pump/pump50.jpeg: 640x640 (no detections), 100.0ms\n",
      "image 34/50 /Users/danielsarmiento/Desktop/uni/tesis/dataset/pump/pump52.webp: 640x640 (no detections), 106.2ms\n",
      "image 35/50 /Users/danielsarmiento/Desktop/uni/tesis/dataset/pump/pump53.webp: 608x640 (no detections), 104.6ms\n",
      "image 36/50 /Users/danielsarmiento/Desktop/uni/tesis/dataset/pump/pump64.jpg: 640x640 (no detections), 113.3ms\n",
      "image 37/50 /Users/danielsarmiento/Desktop/uni/tesis/dataset/pump/pump65.jpg: 640x640 (no detections), 105.6ms\n",
      "image 38/50 /Users/danielsarmiento/Desktop/uni/tesis/dataset/pump/pump67.jpeg: 640x640 (no detections), 115.4ms\n",
      "image 39/50 /Users/danielsarmiento/Desktop/uni/tesis/dataset/pump/pump76.jpeg: 640x640 (no detections), 165.3ms\n",
      "image 40/50 /Users/danielsarmiento/Desktop/uni/tesis/dataset/pump/pump81.jpeg: 640x640 (no detections), 113.2ms\n",
      "image 41/50 /Users/danielsarmiento/Desktop/uni/tesis/dataset/pump/pump87.jpeg: 640x640 (no detections), 114.2ms\n",
      "image 42/50 /Users/danielsarmiento/Desktop/uni/tesis/dataset/pump/pump92.jpeg: 640x640 (no detections), 105.1ms\n",
      "image 43/50 /Users/danielsarmiento/Desktop/uni/tesis/dataset/pump/pump93.webp: 608x640 (no detections), 97.1ms\n",
      "image 44/50 /Users/danielsarmiento/Desktop/uni/tesis/dataset/pump/pump94.jpeg: 640x640 (no detections), 109.9ms\n",
      "image 45/50 /Users/danielsarmiento/Desktop/uni/tesis/dataset/pump/pump95.jpeg: 640x640 (no detections), 105.0ms\n",
      "image 46/50 /Users/danielsarmiento/Desktop/uni/tesis/dataset/pump/pump_10.jpeg: 640x640 (no detections), 105.7ms\n",
      "image 47/50 /Users/danielsarmiento/Desktop/uni/tesis/dataset/pump/pump_2.jpeg: 640x640 (no detections), 105.5ms\n",
      "image 48/50 /Users/danielsarmiento/Desktop/uni/tesis/dataset/pump/pump_3.jpeg: 480x640 (no detections), 72.5ms\n",
      "image 49/50 /Users/danielsarmiento/Desktop/uni/tesis/dataset/pump/pump_7.jpeg: 416x640 (no detections), 65.3ms\n",
      "image 50/50 /Users/danielsarmiento/Desktop/uni/tesis/dataset/pump/pump_9.jpeg: 640x640 (no detections), 101.6ms\n",
      "Speed: 1.7ms preprocess, 106.8ms inference, 0.3ms postprocess per image at shape (1, 3, 640, 640)\n"
     ]
    }
   ],
   "source": [
    "results = model.predict(\"pump/\")"
   ]
  },
  {
   "cell_type": "code",
   "execution_count": 5,
   "metadata": {},
   "outputs": [],
   "source": [
    "results[0].show()"
   ]
  },
  {
   "cell_type": "code",
   "execution_count": 6,
   "metadata": {},
   "outputs": [],
   "source": [
    "model = YOLO(\n",
    "    model = \"yolo11s.pt\"\n",
    ")"
   ]
  },
  {
   "cell_type": "code",
   "execution_count": 7,
   "metadata": {},
   "outputs": [
    {
     "name": "stdout",
     "output_type": "stream",
     "text": [
      "\n",
      "image 1/50 /Users/danielsarmiento/Desktop/uni/tesis/dataset/pump/17914547-A1E9-4820-B077-06FDA1279DDD_1_105_c.jpeg: 640x480 1 fire hydrant, 108.7ms\n",
      "image 2/50 /Users/danielsarmiento/Desktop/uni/tesis/dataset/pump/28E1762B-952F-47CE-A711-0BE57D3D78E6_1_105_c.jpeg: 640x480 3 fire hydrants, 114.3ms\n",
      "image 3/50 /Users/danielsarmiento/Desktop/uni/tesis/dataset/pump/86000276-70E8-4CB4-9F78-046338B966C0_1_105_c.jpeg: 640x384 2 suitcases, 73.3ms\n",
      "image 4/50 /Users/danielsarmiento/Desktop/uni/tesis/dataset/pump/889869A5-CFF3-4F6B-B41D-EA175C400C36_1_105_c.jpeg: 640x480 (no detections), 181.4ms\n",
      "image 5/50 /Users/danielsarmiento/Desktop/uni/tesis/dataset/pump/C271EE8F-A6E6-4F2C-A895-FE0328C6393C_1_105_c.jpeg: 640x480 (no detections), 85.5ms\n",
      "image 6/50 /Users/danielsarmiento/Desktop/uni/tesis/dataset/pump/C5791C75-37C7-4925-B26B-7704326517F5_1_105_c.jpeg: 640x480 1 parking meter, 96.5ms\n",
      "image 7/50 /Users/danielsarmiento/Desktop/uni/tesis/dataset/pump/D1E46993-D652-45AA-BED3-7DC4594146BD_1_105_c.jpeg: 640x384 1 bicycle, 1 motorcycle, 64.1ms\n",
      "image 8/50 /Users/danielsarmiento/Desktop/uni/tesis/dataset/pump/DALL·E 2025-01-08 22.11.38 - A detailed image of a black centrifugal pump similar to CM 15-2, featuring a sturdy motor housing, flange connections, and a compact design. The pump .webp: 640x640 (no detections), 95.9ms\n",
      "image 9/50 /Users/danielsarmiento/Desktop/uni/tesis/dataset/pump/DALL·E 2025-01-08 22.16.55 - A detailed image of a black centrifugal pump similar to CM 15-2, featuring a sturdy motor housing, flange connections, and a compact design. The pump .webp: 640x640 (no detections), 82.6ms\n",
      "image 10/50 /Users/danielsarmiento/Desktop/uni/tesis/dataset/pump/DALL·E 2025-01-08 22.17.44 - A realistic image of a black centrifugal pump similar to CM 15-2, placed in an industrial setting with natural surroundings. The pump is mounted on a .webp: 640x640 1 train, 83.1ms\n",
      "image 11/50 /Users/danielsarmiento/Desktop/uni/tesis/dataset/pump/DALL·E 2025-01-08 22.19.11 - A detailed image of a black and silver centrifugal pump similar to the CM 15-2 model, featuring a compact and industrial design. The pump has a stream.webp: 640x640 (no detections), 81.2ms\n",
      "image 12/50 /Users/danielsarmiento/Desktop/uni/tesis/dataset/pump/DALL·E 2025-01-08 22.33.02 - A realistic image of a black and silver centrifugal pump similar to the CM 15-2 model, set in an industrial workshop environment. The pump is mounted .webp: 640x640 1 bottle, 1 scissors, 77.7ms\n",
      "image 13/50 /Users/danielsarmiento/Desktop/uni/tesis/dataset/pump/DALL·E 2025-01-08 22.35.51 - A realistic image of a black industrial centrifugal pump similar to CM 15-2, mounted on a concrete platform, connected to blue and orange pipes with b.webp: 640x640 1 train, 1 clock, 83.5ms\n",
      "image 14/50 /Users/danielsarmiento/Desktop/uni/tesis/dataset/pump/DALL·E 2025-01-08 22.36.14 - A realistic industrial setup showing a black centrifugal pump similar to CM 15-2, installed on a concrete platform. The pump is connected to blue and .webp: 640x640 1 train, 1 fire hydrant, 93.0ms\n",
      "image 15/50 /Users/danielsarmiento/Desktop/uni/tesis/dataset/pump/DEA18F8B-6E4E-43F2-A9B1-922DDBE8EF47_1_105_c.jpeg: 640x480 1 bicycle, 69.7ms\n",
      "image 16/50 /Users/danielsarmiento/Desktop/uni/tesis/dataset/pump/F4EC4208-B841-4E49-9F61-518A4067444A_1_105_c.jpeg: 640x384 (no detections), 55.8ms\n",
      "image 17/50 /Users/danielsarmiento/Desktop/uni/tesis/dataset/pump/Gemini_Generated_Image_9eaipk9eaipk9eai.jpg: 640x640 (no detections), 85.6ms\n",
      "image 18/50 /Users/danielsarmiento/Desktop/uni/tesis/dataset/pump/Gemini_Generated_Image_j5df1nj5df1nj5df.jpg: 640x640 1 fire hydrant, 107.6ms\n",
      "image 19/50 /Users/danielsarmiento/Desktop/uni/tesis/dataset/pump/Gemini_Generated_Image_mdtyywmdtyywmdty.jpg: 640x640 (no detections), 129.4ms\n",
      "image 20/50 /Users/danielsarmiento/Desktop/uni/tesis/dataset/pump/Gemini_Generated_Image_t5l12yt5l12yt5l1.jpg: 640x640 (no detections), 128.8ms\n",
      "image 21/50 /Users/danielsarmiento/Desktop/uni/tesis/dataset/pump/Gemini_Generated_Image_vc6s8kvc6s8kvc6s.jpg: 640x640 1 train, 112.5ms\n",
      "image 22/50 /Users/danielsarmiento/Desktop/uni/tesis/dataset/pump/images.jpeg: 640x576 (no detections), 89.6ms\n",
      "image 23/50 /Users/danielsarmiento/Desktop/uni/tesis/dataset/pump/output_00001_.png: 640x640 (no detections), 104.0ms\n",
      "image 24/50 /Users/danielsarmiento/Desktop/uni/tesis/dataset/pump/output_00002_.png: 640x640 (no detections), 85.0ms\n",
      "image 25/50 /Users/danielsarmiento/Desktop/uni/tesis/dataset/pump/pump 96.jpeg: 640x640 1 train, 81.7ms\n",
      "image 26/50 /Users/danielsarmiento/Desktop/uni/tesis/dataset/pump/pump14.jpeg: 640x640 1 truck, 81.9ms\n",
      "image 27/50 /Users/danielsarmiento/Desktop/uni/tesis/dataset/pump/pump17.jpeg: 480x640 2 suitcases, 59.8ms\n",
      "image 28/50 /Users/danielsarmiento/Desktop/uni/tesis/dataset/pump/pump17.webp: 640x640 1 clock, 90.9ms\n",
      "image 29/50 /Users/danielsarmiento/Desktop/uni/tesis/dataset/pump/pump18.jpeg: 640x640 1 traffic light, 81.2ms\n",
      "image 30/50 /Users/danielsarmiento/Desktop/uni/tesis/dataset/pump/pump30.jpeg: 640x640 (no detections), 80.7ms\n",
      "image 31/50 /Users/danielsarmiento/Desktop/uni/tesis/dataset/pump/pump35.webp: 576x640 1 truck, 70.9ms\n",
      "image 32/50 /Users/danielsarmiento/Desktop/uni/tesis/dataset/pump/pump40.webp: 576x640 1 truck, 70.7ms\n",
      "image 33/50 /Users/danielsarmiento/Desktop/uni/tesis/dataset/pump/pump50.jpeg: 640x640 4 suitcases, 80.6ms\n",
      "image 34/50 /Users/danielsarmiento/Desktop/uni/tesis/dataset/pump/pump52.webp: 640x640 1 airplane, 82.5ms\n",
      "image 35/50 /Users/danielsarmiento/Desktop/uni/tesis/dataset/pump/pump53.webp: 608x640 1 toaster, 78.7ms\n",
      "image 36/50 /Users/danielsarmiento/Desktop/uni/tesis/dataset/pump/pump64.jpg: 640x640 (no detections), 85.0ms\n",
      "image 37/50 /Users/danielsarmiento/Desktop/uni/tesis/dataset/pump/pump65.jpg: 640x640 2 suitcases, 78.7ms\n",
      "image 38/50 /Users/danielsarmiento/Desktop/uni/tesis/dataset/pump/pump67.jpeg: 640x640 1 train, 81.8ms\n",
      "image 39/50 /Users/danielsarmiento/Desktop/uni/tesis/dataset/pump/pump76.jpeg: 640x640 (no detections), 78.4ms\n",
      "image 40/50 /Users/danielsarmiento/Desktop/uni/tesis/dataset/pump/pump81.jpeg: 640x640 1 train, 79.9ms\n",
      "image 41/50 /Users/danielsarmiento/Desktop/uni/tesis/dataset/pump/pump87.jpeg: 640x640 (no detections), 90.6ms\n",
      "image 42/50 /Users/danielsarmiento/Desktop/uni/tesis/dataset/pump/pump92.jpeg: 640x640 (no detections), 92.8ms\n",
      "image 43/50 /Users/danielsarmiento/Desktop/uni/tesis/dataset/pump/pump93.webp: 608x640 1 fire hydrant, 77.2ms\n",
      "image 44/50 /Users/danielsarmiento/Desktop/uni/tesis/dataset/pump/pump94.jpeg: 640x640 1 suitcase, 83.4ms\n",
      "image 45/50 /Users/danielsarmiento/Desktop/uni/tesis/dataset/pump/pump95.jpeg: 640x640 1 truck, 1 traffic light, 87.1ms\n",
      "image 46/50 /Users/danielsarmiento/Desktop/uni/tesis/dataset/pump/pump_10.jpeg: 640x640 1 mouse, 1 toaster, 84.1ms\n",
      "image 47/50 /Users/danielsarmiento/Desktop/uni/tesis/dataset/pump/pump_2.jpeg: 640x640 (no detections), 121.7ms\n",
      "image 48/50 /Users/danielsarmiento/Desktop/uni/tesis/dataset/pump/pump_3.jpeg: 480x640 8 suitcases, 60.6ms\n",
      "image 49/50 /Users/danielsarmiento/Desktop/uni/tesis/dataset/pump/pump_7.jpeg: 416x640 (no detections), 52.8ms\n",
      "image 50/50 /Users/danielsarmiento/Desktop/uni/tesis/dataset/pump/pump_9.jpeg: 640x640 (no detections), 83.1ms\n",
      "Speed: 1.7ms preprocess, 87.7ms inference, 0.7ms postprocess per image at shape (1, 3, 640, 640)\n"
     ]
    }
   ],
   "source": [
    "results = model.predict(\"pump/\")"
   ]
  },
  {
   "cell_type": "code",
   "execution_count": 8,
   "metadata": {},
   "outputs": [],
   "source": [
    "results[2].show()"
   ]
  },
  {
   "cell_type": "markdown",
   "metadata": {},
   "source": []
  },
  {
   "cell_type": "code",
   "execution_count": 19,
   "metadata": {},
   "outputs": [
    {
     "name": "stdout",
     "output_type": "stream",
     "text": [
      "51\n"
     ]
    }
   ],
   "source": [
    "pumps_images = os.listdir(\"pump/images\")\n",
    "\n",
    "print(\n",
    "    len(pumps_images)\n",
    ")"
   ]
  },
  {
   "cell_type": "code",
   "execution_count": 20,
   "metadata": {},
   "outputs": [
    {
     "name": "stdout",
     "output_type": "stream",
     "text": [
      "50\n"
     ]
    }
   ],
   "source": [
    "pumps_annotations = os.listdir(\"pump/labels\")\n",
    "\n",
    "print(\n",
    "    len(pumps_annotations)\n",
    ")"
   ]
  },
  {
   "cell_type": "code",
   "execution_count": 21,
   "metadata": {},
   "outputs": [
    {
     "name": "stdout",
     "output_type": "stream",
     "text": [
      "DALL·E 2025-01-08 22.36.14 - A realistic industrial setup showing a black centrifugal pump similar to CM 15-2, installed on a concrete platform. The pump is connected to blue and .webp\n",
      "DALL·E 2025-01-08 22.35.51 - A realistic image of a black industrial centrifugal pump similar to CM 15-2, mounted on a concrete platform, connected to blue and orange pipes with b.webp\n",
      "DALL·E 2025-01-08 22.33.02 - A realistic image of a black and silver centrifugal pump similar to the CM 15-2 model, set in an industrial workshop environment. The pump is mounted .webp\n",
      "DALL·E 2025-01-08 22.11.38 - A detailed image of a black centrifugal pump similar to CM 15-2, featuring a sturdy motor housing, flange connections, and a compact design. The pump .webp\n",
      "DALL·E 2025-01-08 22.19.11 - A detailed image of a black and silver centrifugal pump similar to the CM 15-2 model, featuring a compact and industrial design. The pump has a stream.webp\n",
      "DALL·E 2025-01-08 22.16.55 - A detailed image of a black centrifugal pump similar to CM 15-2, featuring a sturdy motor housing, flange connections, and a compact design. The pump .webp\n",
      "DALL·E 2025-01-08 22.17.44 - A realistic image of a black centrifugal pump similar to CM 15-2, placed in an industrial setting with natural surroundings. The pump is mounted on a .webp\n",
      "pump_4.avif\n"
     ]
    }
   ],
   "source": [
    "# give me all images that don't have annotations\n",
    "\n",
    "for image in pumps_images:\n",
    "\n",
    "    annotation = image.split(\".\")[0]\n",
    "    annotation = os.path.join(\"pump/labels\", annotation) + \".txt\"\n",
    "    if not os.path.exists(annotation):\n",
    "        print(\n",
    "            image\n",
    "        )"
   ]
  }
 ],
 "metadata": {
  "kernelspec": {
   "display_name": "train",
   "language": "python",
   "name": "python3"
  },
  "language_info": {
   "codemirror_mode": {
    "name": "ipython",
    "version": 3
   },
   "file_extension": ".py",
   "mimetype": "text/x-python",
   "name": "python",
   "nbconvert_exporter": "python",
   "pygments_lexer": "ipython3",
   "version": "3.12.8"
  }
 },
 "nbformat": 4,
 "nbformat_minor": 2
}
